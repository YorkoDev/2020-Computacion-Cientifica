{
 "cells": [
  {
   "cell_type": "code",
   "execution_count": 1,
   "metadata": {},
   "outputs": [],
   "source": [
    "import numpy as np\n",
    "import sympy as sp\n",
    "import time as ti\n",
    "from skimage.metrics import structural_similarity\n",
    "from PIL import Image\n",
    "from scipy import interpolate\n",
    "import matplotlib.pyplot as plt"
   ]
  },
  {
   "cell_type": "markdown",
   "metadata": {},
   "source": [
    "# Tarea 3:Interpolación Bicúbica"
   ]
  },
  {
   "cell_type": "markdown",
   "metadata": {},
   "source": [
    "## Instrucciones\n",
    "\n",
    "* La tarea es individual.\n",
    "* Las consultas sobre las tareas se deben realizar por medio de la plataforma Aula.\n",
    "* La tarea debe ser realizada en `Jupyter Notebook` (`Python3`).\n",
    "* Se evaluará la correcta utilización de librerias `NumPy`, `SciPy`, entre otras, así como la correcta implementación de algoritmos de forma vectorizada.\n",
    "*  **El archivo de entrega debe denominarse ROL-tarea-numero.ipynb**. _De no respetarse este formato existirá un descuento de **50 puntos**_\n",
    "* La fecha de entrega es el viernes 24 de Julio a las **18:00 hrs**.  Se aceptarán entregas hasta las 19:00 hrs sin descuento en caso de existir algun problema, posteriormente existirá un descuento lineal hasta las 20:00 hrs del mismo día.\n",
    "* Las tareas que sean entregadas antes del jueves a mediodía recibirán una bonificación de 10 puntos\n",
    "* Debe citar cualquier código ajeno utilizado (incluso si proviene de los Jupyter Notebooks del curso).\n"
   ]
  },
  {
   "cell_type": "markdown",
   "metadata": {},
   "source": [
    "## Introducción"
   ]
  },
  {
   "cell_type": "markdown",
   "metadata": {},
   "source": [
    "En la siguiente tarea estudiaremos un método de interpolación denominado **Interpolación Bicúbica**, utilizada frecuentemente sobre imágenes. Aplicaremos el método para aumentar la resolución de una imagen intentando preservar las propiedades de la versión original."
   ]
  },
  {
   "cell_type": "markdown",
   "metadata": {},
   "source": [
    "## Contexto"
   ]
  },
  {
   "cell_type": "markdown",
   "metadata": {},
   "source": [
    "Supongamos que usted conoce $f$ y las derivadas $f_x$, $f_y$ y $f_{xy}$ dentro de las coordenadas $(0,0),(0,1),(1,0)$ y $(1,1)$ de un cuadrado unitario. La superficie que interpola estos 4 puntos es:\n",
    "\n",
    "$$\n",
    "p(x,y) = \\sum\\limits_{i=0}^3 \\sum_{j=0}^3 a_{ij} x^i y^j.\n",
    "$$\n",
    "\n",
    "Como se puede observar el problema de interpolación se resume en determinar los 16 coeficientes $a_{ij}$ y para esto se genera un total de $16$ ecuaciones utilizando los valores conocidos de $f$,$f_x$,$f_y$ y $f_{xy}$. Por ejemplo, las primeras $4$ ecuaciones son:\n",
    "\n",
    "$$\n",
    "\\begin{aligned}\n",
    "f(0,0)&=p(0,0)=a_{00},\\\\\n",
    "f(1,0)&=p(1,0)=a_{00}+a_{10}+a_{20}+a_{30},\\\\\n",
    "f(0,1)&=p(0,1)=a_{00}+a_{01}+a_{02}+a_{03},\\\\\n",
    "f(1,1)&=p(1,1)=\\textstyle \\sum \\limits _{i=0}^{3}\\sum \\limits _{j=0}^{3}a_{ij}.\n",
    "\\end{aligned}\n",
    "$$\n",
    "\n",
    "Para las $12$ ecuaciones restantes se debe utilizar:\n",
    "\n",
    "$$\n",
    "\\begin{aligned}\n",
    "f_{x}(x,y)&=p_{x}(x,y)=\\textstyle \\sum \\limits _{i=1}^{3}\\sum \\limits _{j=0}^{3}a_{ij}ix^{i-1}y^{j},\\\\\n",
    "f_{y}(x,y)&=p_{y}(x,y)=\\textstyle \\sum \\limits _{i=0}^{3}\\sum \\limits _{j=1}^{3}a_{ij}x^{i}jy^{j-1},\\\\\n",
    "f_{xy}(x,y)&=p_{xy}(x,y)=\\textstyle \\sum \\limits _{i=1}^{3}\\sum \\limits _{j=1}^{3}a_{ij}ix^{i-1}jy^{j-1}.\n",
    "\\end{aligned}\n",
    "$$\n",
    "\n",
    "\n",
    "Una vez planteadas las ecuaciones, los coeficientes se pueden obtener al resolver el problema $A\\alpha=x$, donde $\\alpha=\\left[\\begin{smallmatrix}a_{00}&a_{10}&a_{20}&a_{30}&a_{01}&a_{11}&a_{21}&a_{31}&a_{02}&a_{12}&a_{22}&a_{32}&a_{03}&a_{13}&a_{23}&a_{33}\\end{smallmatrix}\\right]^T$ y ${\\displaystyle x=\\left[{\\begin{smallmatrix}f(0,0)&f(1,0)&f(0,1)&f(1,1)&f_{x}(0,0)&f_{x}(1,0)&f_{x}(0,1)&f_{x}(1,1)&f_{y}(0,0)&f_{y}(1,0)&f_{y}(0,1)&f_{y}(1,1)&f_{xy}(0,0)&f_{xy}(1,0)&f_{xy}(0,1)&f_{xy}(1,1)\\end{smallmatrix}}\\right]^{T}}$.\n"
   ]
  },
  {
   "cell_type": "markdown",
   "metadata": {},
   "source": [
    "En un contexto más aplicado, podemos hacer uso de la interpolación bicúbica para aumentar la resolución de una imagen. Supongamos que tenemos la siguiente imagen de tamaño $5 \\times 5$:"
   ]
  },
  {
   "cell_type": "markdown",
   "metadata": {},
   "source": [
    "<img src=\"img1.png\" width=\"20%\"/>"
   ]
  },
  {
   "cell_type": "markdown",
   "metadata": {},
   "source": [
    "Podemos ir tomando segmentos de la imagen de tamaño $2 \\times 2$ de la siguiente forma:"
   ]
  },
  {
   "cell_type": "markdown",
   "metadata": {},
   "source": [
    "<img src=\"img2.png\" width=\"50%\"/>"
   ]
  },
  {
   "cell_type": "markdown",
   "metadata": {},
   "source": [
    "Por cada segmento podemos generar una superficie interpoladora mediante el algoritmo de interpolación cubica. Para el ejemplo anterior estariamos generando $16$ superficies interpoladoras distintas. La idea es hacer uso de estas superficies para estimar los valores de los pixeles correspondienets a una imagen más grande. Por ejemplo, la imagen $5 \\times 5$ la podemos convertir a una imagen de $9 \\times 9$ agregando un pixel entre cada par de pixeles originales además de uno en el centro para que no quede un hueco."
   ]
  },
  {
   "cell_type": "markdown",
   "metadata": {},
   "source": [
    "<img src=\"img3.png\" width=\"50%\"/>"
   ]
  },
  {
   "cell_type": "markdown",
   "metadata": {},
   "source": [
    "Aca los pixeles verdes son los mismos que la imagen original y los azules son obtenidos de evaluar cada superficie interpoladora. Notar que existen pixeles azules que se pueden obtener a partir de dos superficies interpoladoras distintas, en esos casos se puede promediar el valor de los pixeles o simplemente dejar uno de los dos. \n",
    "\n",
    "Para trabajar con la interpolación bicubica necesitamos conocer los valores de $f_x$, $f_y$ y $f_{xy}$. En el caso de las imagenes solo tenemos acceso al valor de cada pixel por lo que deberemos estimar cual es el valor de estos. Para estimar $f_x$ haremos lo siguiente:"
   ]
  },
  {
   "cell_type": "markdown",
   "metadata": {},
   "source": [
    "Para estimar el valor de $f_x$ en cada pixel haremos una interpolación con los algoritmos conocidos, usando tres pixels en dirección de las filas, luego derivaremos el polinomio obtenido y finalmente evaluaremos en la posición de interes. La misma idea aplica para $f_y$ solo que ahora interpolaremos en dirección de las columnas."
   ]
  },
  {
   "cell_type": "markdown",
   "metadata": {},
   "source": [
    "<img src=\"img5.png\" width=\"60%\"/>"
   ]
  },
  {
   "cell_type": "markdown",
   "metadata": {},
   "source": [
    "Por ejemplo si queremos obtener el valor de $f_x$ en la posición $(0,0)$ (imagen de la izquierda) entonces haremos una interpolación de Lagrange utilizando los pixeles $(0,0),(0,1)$ y $(0,2)$. Derivaremos el polinomio interpolador y evaluaremos en $(0,0)$. Por otro lado si queremos obtener el valor de $f_y$ en la posición $(0,0)$ (imagen de la derecha) entonces interpolaremos los pixeles $(0,0),(1,0)$ y $(2,0)$. Luego derivaremos el polinomio interpolador y evaluaremos en $(0,0)$."
   ]
  },
  {
   "cell_type": "markdown",
   "metadata": {},
   "source": [
    "Para obtener $f_{xy}$ seguiremos la idea anterior. Solo que esta vez se utilizaran los valores de $f_y$ y se interpolaran estos en dirección de las filas."
   ]
  },
  {
   "cell_type": "markdown",
   "metadata": {},
   "source": [
    "# Preguntas"
   ]
  },
  {
   "cell_type": "code",
   "execution_count": 30,
   "metadata": {},
   "outputs": [
    {
     "data": {
      "image/png": "[encoded data removed]",
      "text/plain": [
       "<Figure size 432x288 with 1 Axes>"
      ]
     },
     "metadata": {
      "needs_background": "light"
     },
     "output_type": "display_data"
    }
   ],
   "source": [
    "#Codigo para abrir y visualizar imágenes\n",
    "img = Image.open('imagenes_prueba/gradient.png')\n",
    "img = img.convert('RGB')\n",
    "array=np.array(img)\n",
    "imgplot = plt.imshow(array)\n",
    "plt.show()"
   ]
  },
  {
   "cell_type": "markdown",
   "metadata": {},
   "source": [
    "## 1. Interpolación bicubica"
   ]
  },
  {
   "cell_type": "markdown",
   "metadata": {},
   "source": [
    "### 1.1  Obtener derivadas (30 puntos)\n",
    "\n",
    "Implemente la función `derivativeValues` que reciba como input un arreglo con valores, el método de interpolación y si es que se considera el uso de  los puntos de chebyshev . La función debe retornar un arreglo de igual dimensión con los valores de las derivadas de los puntos obtenidas\n",
    "\n",
    "Los métodos de interpolación serán representados por los siguientes valores\n",
    "\n",
    "* Interpolación de lagrange: `'lagrange'`\n",
    "* Diferencias divididas de Newton: `'newton'`\n",
    "* Spline cubica: `'spline3'`\n"
   ]
  },
  {
   "cell_type": "code",
   "execution_count": 3,
   "metadata": {},
   "outputs": [],
   "source": [
    "#Codigo para diferencias divididas obtenidas del github del curso\n",
    "def Divided_Differences(x, y):\n",
    "    dd = np.array([y])\n",
    "    for i in range(len(x)-1):\n",
    "        ddi = []\n",
    "        for a in range(len(x)-i-1):\n",
    "            ddi.append((dd[i][a+1]-dd[i][a])/(x[a+i+1]-x[a]))\n",
    "        ddi = np.append(ddi,np.full((len(x)-len(ddi),),0.0))\n",
    "        dd = np.append(dd,[ddi],axis=0)\n",
    "    return np.array(dd)\n",
    "def Newton(x, y, show=False):\n",
    "    # We calculate the divided differences and store them in a data structure\n",
    "    dd = Divided_Differences(x,y)\n",
    "    \n",
    "    # The function shows the data if the flag is true\n",
    "    if show:\n",
    "        print('Data Points: '); print([(x[i],y[i]) for i in range(len(x))])\n",
    "        xS = sp.Symbol('x')\n",
    "        N = np.dot(dd[:,0],np.append([1],[np.prod(xS-x[:i]) for i in range(1,len(dd))]))\n",
    "        print('Interpolation Function: ');\n",
    "        print(N)\n",
    "        \n",
    "    # Finally, we return a data structure with our interpolating polynomial\n",
    "    D = {'M':'Newton',\n",
    "         'P':dd[:,0],\n",
    "         'x':x,\n",
    "         'y':y}\n",
    "    return D"
   ]
  },
  {
   "cell_type": "code",
   "execution_count": 4,
   "metadata": {},
   "outputs": [],
   "source": [
    "def derivativeValues(values, method, cheb):\n",
    "    \"\"\"\n",
    "    Parameters\n",
    "    ----------\n",
    "    values:\t(int array) points values\n",
    "    method:\t(string)\tinterpolation method\n",
    "    cheb:\t(boolean)\tif chebyshev points are used\n",
    "\n",
    "    Returns\n",
    "    -------\n",
    "    d:\t(float array) derivative value of interpolated points\n",
    "\n",
    "    \"\"\"\n",
    "    d = []\n",
    "    a = 0\n",
    "    b = values.size-1\n",
    "    n = b + 1\n",
    "    if cheb:\n",
    "        points = []\n",
    "        for i in range(1,n+1):\n",
    "            points.append((b+a)/2 + (b-a)*np.cos(((2*i-1)*np.pi)/(2*(n)))/2)\n",
    "    else:\n",
    "        points = list(range(b+1))   \n",
    "    \n",
    "    points.sort()\n",
    "    points = np.array(points)\n",
    "    if method == \"lagrange\":\n",
    "        inter = interpolate.lagrange(points, values)\n",
    "        der = inter.deriv()\n",
    "        for i in points:\n",
    "             d.append(der(i))\n",
    "        \n",
    "    elif method == \"newton\":\n",
    "        inter = Newton(points, values)[\"P\"]\n",
    "        for i in points:\n",
    "            suma = inter[1]\n",
    "            suma += inter[2]*((i - points[0]) + (i - points[1]))\n",
    "            r = (i - points[0])*(i - points[1])\n",
    "            rder = (i - points[0]) + (i - points[1])\n",
    "            \n",
    "            for z in range(3,len(points)):\n",
    "                rder = (r+rder*(i-points[z-1]))\n",
    "                r = r*(i - points[z-1])\n",
    "                suma += inter[z]*rder\n",
    "    \n",
    "            d.append(suma)\n",
    "                 \n",
    "        \n",
    "        \n",
    "    elif method == \"spline3\":\n",
    "        inter = interpolate.CubicSpline(points, values)\n",
    "        der = inter.derivative()\n",
    "        for i in points:\n",
    "            d.append(der(i))\n",
    "        \n",
    "    d = np.array(d)\n",
    "    return d"
   ]
  },
  {
   "cell_type": "markdown",
   "metadata": {},
   "source": [
    "\n",
    "### 1.2 Interpolación de imagen (50 puntos)\n",
    "Implemente la función `bicubicInterpolation` que reciba como input la matriz de la imagen y cuantos píxeles extra se quiere agregar entre los píxeles originales y el algoritmo de interpolación a utilizar. La función debe retornar la matriz con la imagen de dimensión nueva. Considere que se debe aplicar el método de interpolación en cada canal RGB por separado."
   ]
  },
  {
   "cell_type": "code",
   "execution_count": 5,
   "metadata": {},
   "outputs": [],
   "source": [
    "def powaDeriv(image, method, cheb):\n",
    "    \"\"\"\n",
    "    Parameters\n",
    "    ----------\n",
    "    image:\t(nxn array)\t values of one color of the image\n",
    "    method:\t(string)\tinterpolation method\n",
    "    cheb:\t(boolean)\tif chebyshev points are used\n",
    "\n",
    "    Returns\n",
    "    -------\n",
    "    l:\t(3x(n-1)x(n-1) array) values of the three derivatives\n",
    "    \"\"\"\n",
    "    \n",
    "    n = image.shape[0]\n",
    "    fx = np.zeros((n,n))\n",
    "    fy = np.zeros((n,n))\n",
    "    fxy = np.zeros((n,n))\n",
    "    #x e y\n",
    "    for i in range(n):\n",
    "        for j in range(n):\n",
    "            if j +1 < n and j > 0:\n",
    "                arr = np.array([image[i,j-1],image[i,j],image[i,j+1]])\n",
    "                der = derivativeValues(arr, method,cheb)\n",
    "                if j == 1:\n",
    "                    fx[i,j-1] = der[0] \n",
    "                elif j == n-2:\n",
    "                    fx[i,j+1] = der[2]\n",
    "                fx[i,j] = der[1]\n",
    "            if i + 1 < n and i > 0:\n",
    "                arr = np.array([image[i-1,j],image[i,j],image[i+1,j]])\n",
    "                der = derivativeValues(arr, method,cheb)\n",
    "                if i == 1:\n",
    "                    fy[i-1,j] = der[0] \n",
    "                elif i == n-2:\n",
    "                    fy[i+1,j] = der[2]\n",
    "                fy[i,j] = der[1]\n",
    "                \n",
    "            \n",
    "    #xy\n",
    "    for i in range(n):\n",
    "        for j in range(1,n-1):\n",
    "            arr = np.array([fy[i,j-1],fy[i,j],fy[i,j+1]])\n",
    "            der = derivativeValues(arr, method, cheb)\n",
    "            \n",
    "            if j == 1:\n",
    "                fxy[i,j-1] = der[0] \n",
    "            elif j == n-2:\n",
    "                fxy[i,j+1] = der[2]\n",
    "            fxy[i,j] = der[1]\n",
    "    l = np.array([fx,fy,fxy])\n",
    "    return l\n",
    "\n",
    "\n",
    "\n",
    "\n",
    "def coefi(color, der, n):\n",
    "    \"\"\"\n",
    "    Parameters\n",
    "    ----------\n",
    "    color:\t(nxn array) one colorimage array \n",
    "    der:\t(n-1xn-1 array)\tderivative values\n",
    "    n:\t(int)\t shape of the matrix\n",
    "\n",
    "\n",
    "    Returns\n",
    "    -------\n",
    "    cuadrado:\t((n-1)x(n-1)x4x4 array) matrix with all the coefficients of a color\n",
    "\n",
    "    \"\"\"\n",
    "    \n",
    "    A = [[1, 0, 0, 0, 0, 0, 0, 0, 0, 0, 0, 0, 0, 0, 0, 0],\n",
    "         [1, 1, 1, 1, 0, 0, 0, 0, 0, 0, 0, 0, 0, 0, 0, 0],\n",
    "         [1, 0, 0, 0, 1, 0, 0, 0, 1, 0, 0, 0, 1, 0, 0, 0],\n",
    "         [1, 1, 1, 1, 1, 1, 1, 1, 1, 1, 1, 1, 1, 1, 1, 1],\n",
    "         [0, 1, 0, 0, 0, 0, 0, 0, 0, 0, 0, 0, 0, 0, 0, 0],\n",
    "         [0, 1, 2, 3, 0, 0, 0, 0, 0, 0, 0, 0, 0, 0, 0, 0],\n",
    "         [0, 1, 0, 0, 0, 1, 0, 0, 0, 1, 0, 0, 0, 1, 0, 0],\n",
    "         [0, 1, 2, 3, 0, 1, 2, 3, 0, 1, 2, 3, 0, 1, 2, 3],\n",
    "         [0, 0, 0, 0, 1, 0, 0, 0, 0, 0, 0, 0, 0, 0, 0, 0],\n",
    "         [0, 0, 0, 0, 1, 1, 1, 1, 0, 0, 0, 0, 0, 0, 0, 0],\n",
    "         [0, 0, 0, 0, 1, 0, 0, 0, 2, 0, 0, 0, 3, 0, 0, 0],\n",
    "         [0, 0, 0, 0, 1, 1, 1, 1, 2, 2, 2, 2, 3, 3, 3, 3],\n",
    "         [0, 0, 0, 0, 0, 1, 0, 0, 0, 0, 0, 0, 0, 0, 0, 0],\n",
    "         [0, 0, 0, 0, 0, 1, 2, 3, 0, 0, 0, 0, 0, 0, 0, 0],\n",
    "         [0, 0, 0, 0, 0, 1, 0, 0, 0, 2, 0, 0, 0, 3, 0, 0],\n",
    "         [0, 0, 0, 0, 0, 1, 2, 3, 0, 2, 4, 6, 0, 3, 6, 9]]\n",
    "    \n",
    "    \n",
    "    cuadrados = []\n",
    "    for i in range(n-1):\n",
    "        mini = []\n",
    "        for j in range(n-1):\n",
    "            ekis = []\n",
    "            ekis.append(color[i,j])\n",
    "            ekis.append(color[i+1,j])\n",
    "            ekis.append(color[i,j+1])\n",
    "            ekis.append(color[i+1,j+1])\n",
    "\n",
    "            ekis.append(der[0][i,j])\n",
    "            ekis.append(der[0][i+1,j])\n",
    "            ekis.append(der[0][i,j+1])\n",
    "            ekis.append(der[0][i+1,j+1])\n",
    "\n",
    "            ekis.append(der[1][i,j])\n",
    "            ekis.append(der[1][i+1,j])\n",
    "            ekis.append(der[1][i,j+1])\n",
    "            ekis.append(der[1][i+1,j+1])\n",
    "\n",
    "            ekis.append(der[2][i,j])\n",
    "            ekis.append(der[2][i+1,j])\n",
    "            ekis.append(der[2][i,j+1])\n",
    "            ekis.append(der[2][i+1,j+1])\n",
    "            \n",
    "            ekis = np.array(ekis)      \n",
    "            \n",
    "            sol = np.linalg.solve(A, ekis)\n",
    "            sol = sol.reshape((4,4))\n",
    "            solt = sol.T\n",
    "            mini.append(solt)\n",
    "        cuadrados.append(mini)\n",
    "    return cuadrados\n",
    "\n",
    "\n",
    "\n",
    "\n",
    "\n",
    "\n",
    "def eva01(x,y,coef):\n",
    "    \"\"\"\n",
    "    Parameters\n",
    "    ----------\n",
    "    x:\t(float)\tx value to be evaluated \n",
    "    y:\t(float)\ty value to be evaluated\n",
    "    coef:\t(4x4 array)\t matrix of the coefficients\n",
    "\n",
    "\n",
    "    Returns\n",
    "    -------\n",
    "    suma:\t(int) value of the polynom evaluated\n",
    "\n",
    "    \"\"\"\n",
    "    \n",
    "    suma = 0\n",
    "    for i in range(4):\n",
    "        for j in range(4):\n",
    "            suma+= coef[i][j]*(x**i)*(y**j)\n",
    "    \n",
    "    suma = np.round(suma)\n",
    "    if suma > 255:\n",
    "        suma = 255\n",
    "    elif suma < 0:\n",
    "        suma = 0\n",
    "    return int(suma)\n",
    "    "
   ]
  },
  {
   "cell_type": "code",
   "execution_count": 6,
   "metadata": {},
   "outputs": [],
   "source": [
    "def bicubicInterpolation(image, interiorPixels, method,cheb):\n",
    "    \"\"\"\n",
    "    Parameters\n",
    "    ----------\n",
    "    image:\t(nxnx3 array) image array in RGB format\n",
    "    interiorPixels:\t(int)\tinterpolation method\n",
    "    method:\t(string)\tinterpolation method\n",
    "    cheb:\t(boolean)\tif chebyshev points are used\n",
    "\n",
    "\n",
    "    Returns\n",
    "    -------\n",
    "    newImage:\t(nxnx3 array) image array in RGB format\n",
    "\n",
    "    \"\"\"\n",
    "    \n",
    "    n = image.shape[0]\n",
    "    r = np.zeros((n,n))\n",
    "    b = np.zeros((n,n))\n",
    "    g = np.zeros((n,n))\n",
    "\n",
    "    for i in range(0,n):\n",
    "        for j in range(0,n):\n",
    "            r[i,j] = image[i,j][0]\n",
    "            b[i,j] = image[i,j][1]\n",
    "            g[i,j] = image[i,j][2]\n",
    "            \n",
    "    red = powaDeriv(r, method, cheb)\n",
    "    blue = powaDeriv(b, method, cheb)\n",
    "    green = powaDeriv(g, method, cheb)\n",
    "\n",
    "    rco = coefi(r, red, n)\n",
    "    bco = coefi(b, blue, n)\n",
    "    gco = coefi(g, green, n)\n",
    "    newImage = np.zeros((n+(n-1)*interiorPixels, n+(n-1)*interiorPixels, 3)).astype(int)\n",
    "    val = np.linspace(0,1,interiorPixels+2)\n",
    "    for i in range(n-1):  \n",
    "        for j in range(n-1):\n",
    "            for z in range(val.size):\n",
    "                for v in range(val.size):\n",
    "                    newImage[i*(interiorPixels+1)+z,j*(interiorPixels+1)+v,0] = eva01(val[z],val[v],rco[i][j])\n",
    "                    newImage[i*(interiorPixels+1)+z,j*(interiorPixels+1)+v,1] = eva01(val[z],val[v],bco[i][j])\n",
    "                    newImage[i*(interiorPixels+1)+z,j*(interiorPixels+1)+v,2] = eva01(val[z],val[v],gco[i][j])\n",
    "         \n",
    "    \n",
    "    return newImage"
   ]
  },
  {
   "cell_type": "code",
   "execution_count": 31,
   "metadata": {},
   "outputs": [],
   "source": [
    "a = bicubicInterpolation(array, 2, \"lagrange\",False)"
   ]
  },
  {
   "cell_type": "code",
   "execution_count": 32,
   "metadata": {},
   "outputs": [
    {
     "data": {
      "image/png": "[encoded data removed]",
      "text/plain": [
       "<Figure size 432x288 with 1 Axes>"
      ]
     },
     "metadata": {
      "needs_background": "light"
     },
     "output_type": "display_data"
    }
   ],
   "source": [
    "\n",
    "arra=np.array(a)\n",
    "imgplot = plt.imshow(arra)\n",
    "plt.show()"
   ]
  },
  {
   "cell_type": "markdown",
   "metadata": {},
   "source": [
    "## 2. Evaluacion de algoritmos\n",
    "\n"
   ]
  },
  {
   "cell_type": "markdown",
   "metadata": {},
   "source": [
    "### 2.1 Tiempo de ejecucion \n",
    "Implemente la funcion `timeInterpolation` que mida el tiempo de interpolacion de una imagen dado el algoritmo de interpolacion , en segundos.(5 puntos)"
   ]
  },
  {
   "cell_type": "code",
   "execution_count": 8,
   "metadata": {},
   "outputs": [],
   "source": [
    "def timeInterpolation(image, interiorPixels, method,cheb):\n",
    "    \"\"\"\n",
    "    Parameters\n",
    "    ----------\n",
    "    image:\t(nxnx3 array) image array in RGB format\n",
    "    interiorPixels:\t(int)\tinterpolation method\n",
    "    method:\t(string)\tinterpolation method\n",
    "    cheb:\t(boolean)\tif chebyshev points are used\n",
    "\n",
    "\n",
    "    Returns\n",
    "    -------\n",
    "    time:\t(float) time in seconds\n",
    "\n",
    "    \"\"\"\n",
    "    start = ti.time()\n",
    "    a = bicubicInterpolation(array, interiorPixels, method, cheb)\n",
    "    end = ti.time()\n",
    "    time = end-start\n",
    "    return time"
   ]
  },
  {
   "cell_type": "markdown",
   "metadata": {},
   "source": [
    "***Pregunta: ¿Cual es el metodo que presenta mayor velocidad en general? (5 puntos)***"
   ]
  },
  {
   "cell_type": "markdown",
   "metadata": {},
   "source": [
    "Utilizando los ejemplos que se muestran abajo, se puede observar que utilizando Diferencias divididas de Newton, los puntos de cheb al parecen lo afectan, ya que hay veces que es mas rapido y a veces mas lento"
   ]
  },
  {
   "cell_type": "markdown",
   "metadata": {},
   "source": [
    "# Pruebas para la respuesta sobre el tiempo de ejecucion "
   ]
  },
  {
   "cell_type": "markdown",
   "metadata": {},
   "source": [
    "Esta comentado para evitar que se corra esta parte si no se quiere"
   ]
  },
  {
   "cell_type": "code",
   "execution_count": 9,
   "metadata": {},
   "outputs": [],
   "source": [
    "#timeInterpolation(array, 1, \"lagrange\",True)"
   ]
  },
  {
   "cell_type": "code",
   "execution_count": 10,
   "metadata": {},
   "outputs": [],
   "source": [
    "#timeInterpolation(array, 1, \"lagrange\",False)"
   ]
  },
  {
   "cell_type": "code",
   "execution_count": 11,
   "metadata": {},
   "outputs": [],
   "source": [
    "#timeInterpolation(array, 1, \"spline3\",True)"
   ]
  },
  {
   "cell_type": "code",
   "execution_count": 12,
   "metadata": {},
   "outputs": [],
   "source": [
    "#timeInterpolation(array, 1, \"spline3\",False)"
   ]
  },
  {
   "cell_type": "code",
   "execution_count": 13,
   "metadata": {},
   "outputs": [],
   "source": [
    "#timeInterpolation(array, 1, \"newton\",True)"
   ]
  },
  {
   "cell_type": "code",
   "execution_count": 14,
   "metadata": {},
   "outputs": [],
   "source": [
    "#timeInterpolation(array, 1, \"newton\",False)"
   ]
  },
  {
   "cell_type": "markdown",
   "metadata": {},
   "source": [
    "### 2.2 Calculo de error\n",
    "Implemente la funcion `errorInterpolation` la cual debe obtener el error de la imagen obtenida comparandola con una de referencia. El error debe ser calculado utilizando el indice SSIM (Structural similarity) (5 puntos)"
   ]
  },
  {
   "cell_type": "code",
   "execution_count": 15,
   "metadata": {},
   "outputs": [],
   "source": [
    "def errorInterpolation(original,new):\n",
    "    \"\"\"\n",
    "    Parameters\n",
    "    ----------\n",
    "    image:\t(nxn array) original image array in RGB format\n",
    "    new:\t(nxn array) new image array in RGB format obtained from interpolation\n",
    "\n",
    "\n",
    "    Returns\n",
    "    -------\n",
    "    error:\t(float) difference between images \n",
    "\n",
    "    \"\"\"\n",
    "    n = original.shape[0]\n",
    "    error = 1-structural_similarity(original, new, multichannel=True, data_range=n)\n",
    "    return error"
   ]
  },
  {
   "cell_type": "markdown",
   "metadata": {},
   "source": [
    "***Pregunta: ¿Cual metodo presenta menor error? (5 puntos)***"
   ]
  },
  {
   "cell_type": "markdown",
   "metadata": {},
   "source": [
    "En base a las pruebas hechas, se puede observar que los 3 metodos poseen el mismpo error si son utilizados sin puntos de chebyshev. Esto puede que dependa de los casos de prueba que se utilicen."
   ]
  },
  {
   "cell_type": "markdown",
   "metadata": {},
   "source": [
    "# Pruebas para la respuesta sobre el error en la interpolacion"
   ]
  },
  {
   "cell_type": "code",
   "execution_count": 16,
   "metadata": {},
   "outputs": [],
   "source": [
    "img = Image.open('imagenes_prueba/sunset.png')\n",
    "img = img.convert('RGB')\n",
    "array = np.array(img)\n",
    "\n",
    "ori = Image.open('imagenes_prueba/sunset_1pixel.png')\n",
    "ori = ori.convert('RGB')\n",
    "original = np.array(ori)"
   ]
  },
  {
   "cell_type": "code",
   "execution_count": 17,
   "metadata": {},
   "outputs": [],
   "source": [
    "#new = bicubicInterpolation(array, 1, \"lagrange\", True)\n",
    "#a = errorInterpolation(original,new)\n",
    "#a"
   ]
  },
  {
   "cell_type": "code",
   "execution_count": 18,
   "metadata": {},
   "outputs": [],
   "source": [
    "#new = bicubicInterpolation(array, 1, \"lagrange\", False)\n",
    "#a = errorInterpolation(original,new)\n",
    "#a"
   ]
  },
  {
   "cell_type": "code",
   "execution_count": 19,
   "metadata": {},
   "outputs": [],
   "source": [
    "#new = bicubicInterpolation(array, 1, \"newton\", True)\n",
    "#a = errorInterpolation(original,new)\n",
    "#a"
   ]
  },
  {
   "cell_type": "code",
   "execution_count": 20,
   "metadata": {},
   "outputs": [],
   "source": [
    "#new = bicubicInterpolation(array, 1, \"newton\", False)\n",
    "#a = errorInterpolation(original,new)\n",
    "#a"
   ]
  },
  {
   "cell_type": "code",
   "execution_count": 21,
   "metadata": {},
   "outputs": [],
   "source": [
    "#new = bicubicInterpolation(array, 1, \"spline3\", True)\n",
    "#a = errorInterpolation(original,new)\n",
    "#a"
   ]
  },
  {
   "cell_type": "code",
   "execution_count": 22,
   "metadata": {},
   "outputs": [],
   "source": [
    "#new = bicubicInterpolation(array, 1, \"spline3\", False)\n",
    "#a = errorInterpolation(original,new)\n",
    "#a"
   ]
  },
  {
   "cell_type": "markdown",
   "metadata": {},
   "source": [
    "* Solo trabajaremos con imagenes cuadradas\n",
    "* En el caso que el valor interpolado de un punto sea mayor a 255 o menor a 0, este se trunca a 255 o 0 respectivamente\n",
    "* Esta permitido el uso de sympy para calcular derivadas y para construir el polinomio interpolador \n",
    "* El calculo de error puede ser calculado utilizando la imagen en escala de grises [(ejemplo)](https://scikit-image.org/docs/dev/auto_examples/transform/plot_ssim.html)"
   ]
  }
 ],
 "metadata": {
  "kernelspec": {
   "display_name": "Python 3",
   "language": "python",
   "name": "python3"
  },
  "language_info": {
   "codemirror_mode": {
    "name": "ipython",
    "version": 3
   },
   "file_extension": ".py",
   "mimetype": "text/x-python",
   "name": "python",
   "nbconvert_exporter": "python",
   "pygments_lexer": "ipython3",
   "version": "3.6.9"
  }
 },
 "nbformat": 4,
 "nbformat_minor": 4
}
