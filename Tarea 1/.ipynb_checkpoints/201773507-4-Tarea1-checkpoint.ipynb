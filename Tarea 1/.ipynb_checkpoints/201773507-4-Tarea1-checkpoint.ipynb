{
 "cells": [
  {
   "cell_type": "markdown",
   "metadata": {
    "colab_type": "text",
    "id": "aBPGOpUM11V1"
   },
   "source": [
    "\n",
    "<center>\n",
    "    <h1> INF285/ILI285 Computación Científica </h1>\n",
    "    <h1> Tarea N°1, v1.00 </h1>\n",
    "    \n",
    "</center>\n",
    "\n",
    "<p>\n",
    "\n",
    "</p>"
   ]
  },
  {
   "cell_type": "markdown",
   "metadata": {
    "colab_type": "text",
    "id": "B7MCAVSDRk3l"
   },
   "source": [
    "## Instrucciones\n",
    "\n",
    "* La tarea es individual.\n",
    "* Las consultas sobre las tareas se deben realizar por medio de la plataforma Aula.\n",
    "* La tarea debe ser realizada en `Jupyter Notebook` (`Python3`).\n",
    "* Se evaluará la correcta utilización de librerias `NumPy`, `SciPy`, entre otras, así como la correcta implementación de algoritmos de forma vectorizada.\n",
    "*  **El archivo de entrega debe denominarse ROL-tarea-numero.ipynb**. _De no respetarse este formato existirá un descuento de **50 puntos**_\n",
    "* La fecha de entrega es el jueves 30 de Abril a las **18:00 hrs**.  Se aceptarán entregas hasta las 19:00 hrs sin descuento en caso de existir algun problema, posteriormente existirá un descuento lineal hasta las 20:00 hrs del mismo día.\n",
    "* Las tareas que sean entregadas antes del jueves a mediodía recibirán una bonificación de 10 puntos\n",
    "* Debe citar cualquier código ajeno utilizado (incluso si proviene de los Jupyter Notebooks del curso).\n",
    "\n",
    "\n"
   ]
  },
  {
   "cell_type": "markdown",
   "metadata": {
    "colab_type": "text",
    "id": "PNhvmtRq2Orx"
   },
   "source": [
    "## Introducción \n",
    "\n",
    "En esta primera tarea de INF/ILI-285, versión 2020-1, estudiaremos la importancia de los primeros temas estudiados en el curso, los cuales son: Representación de Punto Flotante, Pérdida de Significancia, Errores de Cancelación y Búsqueda de Ceros. El desarrollo de cada uno de esos temas se presenta en una serie de preguntas, donde ustedes deben ir decidiendo, pregunta a pregunta, como cada uno de los temas se aplica. En general, los temas no se analizan por separado, sino de manera acoplada. Es muy importante que cada uno de los problemas sea analizado teóricamente primero, para luego poner su conocimiento en acción. Cada problema puede ser desarrollado de diversas formas, sin embargo, es muy importante determinar al final si el camino elegido resuelve la pregunta presentada."
   ]
  },
  {
   "cell_type": "markdown",
   "metadata": {
    "colab_type": "text",
    "id": "lAtn1U0qRg2S"
   },
   "source": [
    "## Problemas"
   ]
  },
  {
   "cell_type": "markdown",
   "metadata": {
    "colab_type": "text",
    "id": "3znHUOxOUB0-"
   },
   "source": [
    "### 1. Simulador (50 ptos) \n",
    "\n",
    "Dada la familia de polinomios de grado 3 con la forma:\n",
    "\n",
    "\n",
    "\\begin{equation}\n",
    "f(x)=x^3 - A\\,x^2 + A\\,x - 1\n",
    "\\end{equation}\n",
    "\n",
    "\n",
    "Se pide implementar un algoritmo que reciba como parámetros el valor de $A$ (con $|A|>>1$) y la cantidad de bits que tiene en la mantisa un computador ficticio, el manejo del exponente debe considerarse de las misma forma que lo maneja _double precision_.\n",
    "Esta implementación debe calcular las raíces de $f$ sin perdida de significancia con la cantidad de bits disponibles para la mantisa.\n",
    "Para obtener las raíces de $f$ usted debe encontrar de forma algebraica sus raíces y luego proponer un algoritmo basado en las _fórmulas_ obtenidas.\n",
    "\n",
    "Considere que en ese computador ficticio cuenta con las operaciones matemáticas necesarias para obtener las raíces.  Considere el siguiente ejemplo:\n",
    "\n",
    "```python\n",
    "# Alg. Base\n",
    "a = 9819824.624837\n",
    "b = 148736.523476\n",
    "c = a+b\n",
    "\n",
    "# Alg. con Representación de Punto Flotante de 'bits_mant' bits en la mantisa.\n",
    "am = f_new_rep(9819824.624837,bits_mant) # Aproximar el input en la nueva representación.\n",
    "bm = f_new_rep(148736.523476,bits_mant) # Aproximar el input en la nueva representación.\n",
    "cm = f_new_rep(m,exp,am+bm) # Aproximar el output de la suma y cada operación en la nueva representación.\n",
    "```\n"
   ]
  },
  {
   "cell_type": "markdown",
   "metadata": {},
   "source": [
    "Para realizar lo que se pide, es necesario encontrar una expresion para cada raiz de $f$. De primera mano podemos notar que 1 es una raiz de esta, y utilizando division sintetica obetemos:\n",
    "\\begin{equation}\n",
    "    f(x) = (x-1)(x^2+(1-A)x+1)\n",
    "\\end{equation}\n",
    "\n",
    "Del polinomio de grado 2 se obtiene que las otras dos raices de la funcion se obtienen de la soulcion cuadratica:\n",
    "\n",
    "\\begin{equation}\n",
    "    x = \\frac{(A-1)\\pm \\sqrt{(A-1)^2 -4}}{2}\n",
    "\\end{equation}\n",
    "\n",
    "Sin embargo, para evitar perdida de precision, hay que evitar resta entre valores valores de la misma magnitud. Esto tambien depende del valor que tome A, para esto se obtiene:\n",
    "\n",
    "Para $A > 0$\n",
    "\\begin{cases}\n",
    "                x_1 = 1\\\\\n",
    "                x_2 = \\frac{(A-1) + \\sqrt{(A-1)^2 -4}}{2}\\\\\n",
    "                x_3 = \\frac{2}{(A-1) + \\sqrt{(A-1)^2 -4}}\\\\\n",
    "\\end{cases}\n",
    "\n",
    "Por el otro lado, cuando $A<0$\n",
    "\\begin{cases}\n",
    "                x_1 = 1\\\\\n",
    "                x_2 = \\frac{(A-1) - \\sqrt{(A-1)^2 -4}}{2}\\\\\n",
    "                x_3 = \\frac{2}{(A-1) - \\sqrt{(A-1)^2 -4}}\\\\\n",
    "\\end{cases}\n",
    "\n"
   ]
  },
  {
   "cell_type": "code",
   "execution_count": 35,
   "metadata": {},
   "outputs": [],
   "source": [
    "import numpy as np\n",
    "import scipy as sp\n",
    "import scipy.special as spe"
   ]
  },
  {
   "cell_type": "code",
   "execution_count": 36,
   "metadata": {},
   "outputs": [],
   "source": [
    "def sumauno(num):\n",
    "    extra = 0\n",
    "    i = len(num)-1\n",
    "    lum = list(num)\n",
    "    while  lum[i] != '0':\n",
    "        lum[i] = '0'\n",
    "        i-=1\n",
    "        if i < 0:\n",
    "            break\n",
    "    if i <0:\n",
    "        lum.insert(0,'0')\n",
    "        extra = 1\n",
    "    else:\n",
    "        lum[i]= '1'\n",
    "    num = \"\".join(lum)\n",
    "    return num,extra"
   ]
  },
  {
   "cell_type": "code",
   "execution_count": 37,
   "metadata": {},
   "outputs": [],
   "source": [
    "def partdecim(decimal):\n",
    "    bitdecimal = \"\"\n",
    "    while decimal > 0:\n",
    "        decimal= decimal*2\n",
    "        if int(decimal) == 1.0:\n",
    "            bitdecimal = bitdecimal + \"1\"\n",
    "            decimal = decimal - 1\n",
    "        else:\n",
    "            bitdecimal= bitdecimal + \"0\"\n",
    "        \n",
    "    return bitdecimal\n",
    "def muyentero(a):\n",
    "    curr = a\n",
    "    bitentera = \"\"\n",
    "    while curr != 0:\n",
    "        bitentera = str(curr%2) + bitentera\n",
    "        curr = int(curr/2)\n",
    "    return bitentera\n",
    "        "
   ]
  },
  {
   "cell_type": "code",
   "execution_count": 38,
   "metadata": {},
   "outputs": [],
   "source": [
    "def bitmaker(a, man):\n",
    "    bes = str(a).split(\".\")\n",
    "    sig = 1\n",
    "    if \"e\" in str(a) and \"+\" in str(a):\n",
    "        entera = a\n",
    "        decimal = 0\n",
    "        if entera < 0:\n",
    "            entera = entera * (-1)\n",
    "            sig = -1\n",
    "        bitentera = muyentero(entera)\n",
    "        bitdecimal = partdecim(decimal)\n",
    "        \n",
    "    elif \"e\" in str(a) and \"-\" in str(a):\n",
    "        entera = 0\n",
    "        decimal = a\n",
    "        bitentera = np.binary_repr(entera)\n",
    "        if decimal < 0:\n",
    "            decimal = abs(decimal)\n",
    "            sig = -1\n",
    "        bitdecimal = partdecim(decimal)\n",
    "    else:\n",
    "        entera = int(bes[0])\n",
    "        if entera < 0:\n",
    "            entera = entera * (-1)\n",
    "            sig = -1\n",
    "        bitentera = np.binary_repr(entera)\n",
    "\n",
    "        if \".\" in str(a):\n",
    "            decimal = float(bes[1])*10**(-len(bes[1]))\n",
    "        else:\n",
    "            decimal = 0\n",
    "        bitdecimal = partdecim(decimal)\n",
    "        \n",
    "    esdecimal = 1\n",
    "    if bitentera == \"0\":\n",
    "        esdecimal = 0\n",
    "        bitdecimal = partdecim(decimal)\n",
    "    number= bitentera+bitdecimal\n",
    "    digit = number[1:]\n",
    "    extra = 0\n",
    "    if esdecimal==0:\n",
    "        good = 1\n",
    "        primer = 0\n",
    "        count=0\n",
    "        for i in digit:\n",
    "            if i == \"1\":\n",
    "                primer = 1\n",
    "                count = 1\n",
    "            if primer:\n",
    "                count += 1\n",
    "            if count > man:\n",
    "                good = 0\n",
    "                break\n",
    "        if good:\n",
    "            trun = digit\n",
    "        else:\n",
    "            trun = digit[0:man]\n",
    "            \n",
    "    elif len(digit) > man:\n",
    "        trun= digit[0:man]\n",
    "        if digit[man] == \"1\":\n",
    "            i = man+1\n",
    "            su = 0\n",
    "            while i < len(digit):\n",
    "                if digit[i] == \"1\":\n",
    "                    su = 1\n",
    "                    break\n",
    "                i+=1\n",
    "            if su == 1 or digit[man-1] == \"1\":\n",
    "                trun,extra = sumauno(trun)\n",
    "    else:\n",
    "        trun = digit\n",
    "    if extra:\n",
    "        bitentera = \"1\"+ bitentera\n",
    "    if esdecimal == 0:\n",
    "        number = trun\n",
    "    elif len(trun) > len(bitentera)-1:\n",
    "        lentera= len(bitentera)-1\n",
    "        bitentera = trun[0:lentera]\n",
    "        bitdecimal = trun[lentera:]\n",
    "        number = bitentera+\".\"+bitdecimal\n",
    "    elif len(trun) == len(bitentera):\n",
    "        number = trun\n",
    "    else:\n",
    "        while len(trun) < len(bitentera)-1:\n",
    "            trun =  trun + \"0\"\n",
    "        number = trun\n",
    "    if esdecimal:\n",
    "        number = \"1\" + number\n",
    "    else:\n",
    "        number = \"0.\" + number\n",
    "    return number,sig\n"
   ]
  },
  {
   "cell_type": "code",
   "execution_count": 39,
   "metadata": {},
   "outputs": [],
   "source": [
    "def bitdemaker(a,sig):\n",
    "    if(\".\" not in a):\n",
    "        e = a\n",
    "        d= \"0\"\n",
    "    else:\n",
    "        e,d=a.split(\".\")\n",
    "    e = list(e)\n",
    "    e.reverse()\n",
    "    i = 0\n",
    "    ent = 0\n",
    "    dec = 0\n",
    "    for b in e:\n",
    "        ent += int(b)*2**i\n",
    "        i+=1\n",
    "    i = -1\n",
    "    for b in d:\n",
    "        dec = dec + int(b)*2**i\n",
    "        i-=1\n",
    "    return (ent+dec)*sig"
   ]
  },
  {
   "cell_type": "code",
   "execution_count": 40,
   "metadata": {
    "colab": {},
    "colab_type": "code",
    "id": "2efm5YD2UBGD"
   },
   "outputs": [],
   "source": [
    "\"\"\"\n",
    "input\n",
    "x         : (double) valor a evaluar\n",
    "bits_mant : (int) cantidad de bits de la mantisa\n",
    "output\n",
    "eval      : (double) resultado obtenido\n",
    "\"\"\"\n",
    "def f_new_rep(x,bits_mant):\n",
    "  # Algoritmo de representación de punto flotante modificada.\n",
    "    a,sig = bitmaker(x,bits_mant)\n",
    "    result = bitdemaker(a,sig)\n",
    "    return  result\n",
    "\n",
    "def f_find_roots(A,bits_mant):\n",
    "  # Algoritmo para encontrar raíces de f(x).\n",
    "    x_roots =[1]\n",
    "    if A > 0:\n",
    "        #A = f_new_rep(A, bits_mant)\n",
    "        print(\"Valor de A: \", A)\n",
    "        amen1= f_new_rep(A-1, bits_mant)\n",
    "        print(\"Valor de A-1: \", amen1)\n",
    "        amencua=f_new_rep(amen1*amen1, bits_mant)\n",
    "        print(\"Valor de (A-1)^2: \", amencua)\n",
    "        cuamen4=f_new_rep(amencua-4, bits_mant)\n",
    "        print(\"Valor de (A-1)^2-4: \", cuamen4)\n",
    "        raiz = f_new_rep(np.sqrt(cuamen4), bits_mant)\n",
    "        print(\"Valor de sqrt((A-1)^2-4): \", raiz)\n",
    "        suma = f_new_rep(raiz + amen1, bits_mant)\n",
    "        print(\"Valor de A+1+sqrt((A-1)^2-4): \", suma)\n",
    "        pos = f_new_rep(suma/2, bits_mant)\n",
    "        print(\"Valor de Raiz positiva: \", pos)\n",
    "        x_roots.append(pos)\n",
    "        neg = f_new_rep(2/suma, bits_mant)\n",
    "        print(\"Valor de Raiz negativa: \", neg)\n",
    "        x_roots.append(neg)\n",
    "    elif A < 0:\n",
    "        #A = f_new_rep(A, bits_mant)\n",
    "        print(\"Valor de A: \", A)\n",
    "        amen1= f_new_rep(A-1, bits_mant)\n",
    "        print(\"Valor de A-1: \", amen1)\n",
    "        amencua=f_new_rep(amen1*amen1, bits_mant)\n",
    "        print(\"Valor de (A-1)^2: \", amencua)\n",
    "        cuamen4=f_new_rep(amencua-4, bits_mant)\n",
    "        print(\"Valor de (A-1)^2-4: \", cuamen4)\n",
    "        raiz = f_new_rep(np.sqrt(cuamen4), bits_mant)\n",
    "        print(\"Valor de sqrt((A-1)^2-4): \", raiz)\n",
    "        suma = f_new_rep(amen1-raiz , bits_mant)\n",
    "        print(\"Valor de A+1+sqrt((A-1)^2-4): \", suma)\n",
    "        pos = f_new_rep(suma/2, bits_mant)\n",
    "        print(\"Valor de Raiz positiva: \", pos)\n",
    "        x_roots.append(pos)\n",
    "        neg = f_new_rep(2/suma, bits_mant)\n",
    "        \n",
    "        print(\"Valor de Raiz negativa: \", neg)\n",
    "        x_roots.append(neg)\n",
    "    return x_roots\n",
    "        \n",
    "\n",
    "\n"
   ]
  },
  {
   "cell_type": "code",
   "execution_count": 41,
   "metadata": {},
   "outputs": [
    {
     "name": "stdout",
     "output_type": "stream",
     "text": [
      "Valor de A:  50000.125\n",
      "Valor de A-1:  49984.0\n",
      "Valor de (A-1)^2:  2497708032.0\n",
      "Valor de (A-1)^2-4:  2497708032.0\n",
      "Valor de sqrt((A-1)^2-4):  49984.0\n",
      "Valor de A+1+sqrt((A-1)^2-4):  99968.0\n",
      "Valor de Raiz positiva:  49984.0\n",
      "Valor de Raiz negativa:  2.000640204865557e-05\n"
     ]
    },
    {
     "data": {
      "text/plain": [
       "[1, 49984.0, 2.000640204865557e-05]"
      ]
     },
     "execution_count": 41,
     "metadata": {},
     "output_type": "execute_result"
    }
   ],
   "source": [
    "\n",
    "f_find_roots(50000.125, 10)"
   ]
  },
  {
   "cell_type": "markdown",
   "metadata": {
    "colab_type": "text",
    "id": "Nw-jJfD-VPMa"
   },
   "source": [
    "### Polinomios de Legendre (50 puntos)\n",
    "Dada la función compuesta $f$\n",
    "\\begin{equation}\n",
    "f_{n,m}(x) = L_n(C_m(x)),\n",
    "\\end{equation}\n",
    "donde $L_n$ es conocido como el polinomio de Legendre de grado $n$ definido de la siguiente forma:\n",
    "\\begin{equation}\n",
    "L_{n}(x)=\\frac{1}{2^{n}} \\sum_{k=0}^{n}\\left(\\begin{array}{l}\n",
    "n \\\\\n",
    "k\n",
    "\\end{array}\\right)^{2}(x-1)^{n-k}(x+1)^{k},\n",
    "\\end{equation}\n",
    "y $C_m$ es el polinomio de Chebyshev\n",
    "\\begin{equation}\n",
    "C_m(x) = \\cos(m \\cdot \\arccos(x)).\n",
    "\\end{equation}\n",
    "\n",
    "Utilizando el método de Bisección y Punto fijo se pide obtener la raíz de $f$ más cercana a $0.5$ dado un valor de $m$ y $n$\n",
    "\n",
    "\n",
    "\n",
    "*Hint: Las raíces de Legendre son conocidas*\n",
    "\n"
   ]
  },
  {
   "cell_type": "code",
   "execution_count": 170,
   "metadata": {
    "colab": {},
    "colab_type": "code",
    "id": "x0rfc_-6JTrG"
   },
   "outputs": [
    {
     "name": "stdout",
     "output_type": "stream",
     "text": [
      "0.4333953941292472\n",
      "0.43374551685080925\n"
     ]
    },
    {
     "data": {
      "text/plain": [
       "0.512973410383376"
      ]
     },
     "execution_count": 170,
     "metadata": {},
     "output_type": "execute_result"
    }
   ],
   "source": [
    "def lamascerca(a):\n",
    "    prev = 100\n",
    "    for i in a:\n",
    "        if abs(i-0.5) < abs(prev-0.5):\n",
    "            prev = i\n",
    "    return prev\n",
    "        \n",
    "\"\"\"\n",
    "input\n",
    "n: (int) grado del polinomio de Legendre\n",
    "m: (int) grado del polinomio de Chebyshev\n",
    "tol: (double) tolerancia para la detención del algoritmo\n",
    "output\n",
    "root: (double) raiz obtenida\n",
    "\"\"\"\n",
    "def f_Biseccion(n, m, tol):\n",
    "    ##\n",
    "    raiz = lamascerca(spe.roots_legendre(n)[0])\n",
    "    \n",
    "    \n",
    "    \n",
    "    return root\n",
    "\n",
    "def f_FPI(n, m, tol):\n",
    "    raiz = lamascerca(spe.roots_legendre(n)[0])\n",
    "    print(raiz)\n",
    "    f = lambda x: x+(np.cos(m*np.arccos(x))-raiz)/1e3\n",
    "    x_0 = f(raiz)\n",
    "    print(x_0)\n",
    "    while True:\n",
    "        root = f(x_0)\n",
    "        if abs(root-x_0) < tol:\n",
    "            break\n",
    "        x_0 = root\n",
    "    return root\n",
    "\n",
    "\n",
    "f_FPI(10, 5, 0.0000001)\n"
   ]
  },
  {
   "cell_type": "markdown",
   "metadata": {
    "colab_type": "text",
    "id": "sv7nBimeVOT2"
   },
   "source": [
    "###  Determinantes (20 puntos)"
   ]
  },
  {
   "cell_type": "markdown",
   "metadata": {
    "colab_type": "text",
    "id": "fZPW_hUvQTW_"
   },
   "source": [
    "Dada una matriz de dimensiones $ n \\times n$ de la forma:\n",
    "\\begin{equation}\n",
    "A\n",
    "=\n",
    "\\begin{pmatrix}\n",
    "a_{1,1} & a_{1,2}  & \\dots & a_{1,n} \\\\\n",
    "a_{2,1} & a_{2,2}  & \\dots & a_{2,n} \\\\\n",
    "\\vdots &  \\vdots   & \\ddots & \\vdots \\\\\n",
    "a_{n,1} & a_{n,2}  & \\dots & a_{n,n}\n",
    "\\end{pmatrix}\n",
    "=\n",
    "\\begin{pmatrix}\n",
    "\\mathbf{r}_1 \\\\\n",
    "\\mathbf{r}_2 \\\\\n",
    "\\vdots \\\\\n",
    "\\mathbf{r}_n \\\\\n",
    "\\end{pmatrix},\n",
    "\\end{equation}\n",
    "donde $\\mathbf{r}_k$ representa la $k$-ésima fila de la matriz $A$.\n",
    "Considere la siguiente matriz $C_{i,j}(\\alpha)$,\n",
    "\\begin{equation}\n",
    "C_{i,j}(\\alpha)\n",
    "=\n",
    "\\begin{pmatrix}\n",
    "\\mathbf{r}_1 \\\\\n",
    "\\vdots \\\\\n",
    "\\mathbf{r}_i\\,(1-\\alpha)+\\mathbf{r}_j\\,\\alpha \\\\\n",
    "\\vdots \\\\\n",
    "\\mathbf{r}_j\\,(1-\\alpha)+\\mathbf{r}_i\\,\\alpha \\\\\n",
    "\\vdots \\\\\n",
    "\\mathbf{r}_n \\\\\n",
    "\\end{pmatrix},\n",
    "\\end{equation}\n",
    "de lo cual sabemos que $C_{i,j}(0)=A$ y que $C_{i,j}(1)$ es la matriz $A$ donde se intercambiaron las filas $i$ y $j$, es decir:\n",
    "\\begin{equation}\n",
    "C_{i,j}(1)\n",
    "=\n",
    "\\begin{pmatrix}\n",
    "\\mathbf{r}_1 \\\\\n",
    "\\vdots \\\\\n",
    "\\mathbf{r}_j \\\\\n",
    "\\vdots \\\\\n",
    "\\mathbf{r}_i \\\\\n",
    "\\vdots \\\\\n",
    "\\mathbf{r}_n \\\\\n",
    "\\end{pmatrix}.\n",
    "\\end{equation}\n",
    "De las relaciones anteriores podemos concluir que el determinante de la matriz $A$, denominado $D=\\det(A)$, es igual al determinante de $C_{i,j}(0)$, es decir $\\det(C_{i,j}(0))=\\det(A)=D$.\n",
    "Por el otro lado, el determinante de $C_{i,j}(1)$ es $-D$, dado que es el intercambio de las filas $i$ y $j$ de la matriz $A$.\n",
    "Por lo cual podemos concluir que $-D\\leq \\det(C_{i,j}(\\alpha))\\leq D$.\n",
    "\n",
    "Utilizando el método de Bisección debe encontrar el valor de $\\alpha$ con $p$ decimales de precisión que permitan que, dado los índices de las filas $i$, $j$, y $i\\neq j$, el determinante de la matriz sea igual a $d$, donde $d\\in[-D,D]$. \n",
    "\n",
    "Para esto se debe implementar una función que reciba la matriz $A$, las filas $i$ y $j$, y $p$; y retorne $\\widehat{\\alpha}$ tal que $\\det(C_{i,j}(\\widehat{\\alpha}))=d$.\n"
   ]
  },
  {
   "cell_type": "code",
   "execution_count": 43,
   "metadata": {},
   "outputs": [],
   "source": [
    "def cambiazo(B,i,j,alpha):\n",
    "    A = np.copy(B)\n",
    "    via = np.copy(A[i])\n",
    "    vim = np.copy(A[i])\n",
    "\n",
    "    vja = np.copy(A[j])\n",
    "    vjm = np.copy(A[j])\n",
    "    \n",
    "    via = via * float(alpha)\n",
    "    vim = vim * float((1-alpha))\n",
    "    vja = vja * float(alpha)\n",
    "    vjm = vjm * float((1-alpha))\n",
    "    \n",
    "    vimja = np.add(vim, vja)\n",
    "    vjmia = np.add(via, vjm)\n",
    "\n",
    "    A[i] = vimja\n",
    "    A[j] = vjmia\n",
    "    return A\n",
    "    \n",
    "    "
   ]
  },
  {
   "cell_type": "code",
   "execution_count": 140,
   "metadata": {
    "colab": {},
    "colab_type": "code",
    "id": "ZewzBMC0WevO"
   },
   "outputs": [],
   "source": [
    "\"\"\"\n",
    "input\n",
    "A: (array n x n) matriz\n",
    "i: (int) índice de la fila \"i\".\n",
    "j: (int) índice de la fila \"j\".\n",
    "p: (int) cantidad de decimales de precision \n",
    "d: (double) valor requerido del determinante de $C_{i,j}(\\alpha)$, i.e. $\\det(C_{i,j}(\\widehat{\\alpha}))=d$.\n",
    "output\n",
    "alpha_hat: (double) alpha_hat tal que det(C_{i,j}(alpha_hat))=d.\n",
    "\"\"\"\n",
    "def find_alpha_hat(A,i,j,p,d):\n",
    "    # Algoritmo a desarrollar, note que usted debe definir el intervalo a utilizar en el método de la bisección.\n",
    "    D = np.linalg.det(A)  \n",
    "    C = np.copy(A)\n",
    "    a = 0\n",
    "    b = 1\n",
    "    if abs(D) <= abs(d):\n",
    "        if D*d < 0:\n",
    "            return 1\n",
    "        else:\n",
    "            return 0\n",
    "    prev = D*10\n",
    "    calc = np.log2((b-a)/(0.5*10**(-p)))-1\n",
    "    it = 0\n",
    "    n=0\n",
    "    while 1:\n",
    "        alpha_hat = (a+b)/2\n",
    "        C = np.copy(A)\n",
    "        C = cambiazo(C,i,j,a)\n",
    "        fa = d - np.linalg.det(C)\n",
    "        C = np.copy(A)\n",
    "        C = cambiazo(C,i,j,alpha_hat)\n",
    "        fc = d - np.linalg.det(C)\n",
    "        if n > calc:\n",
    "            break\n",
    "        elif fa*fc < 0:\n",
    "            b = alpha_hat\n",
    "        else:\n",
    "            a = alpha_hat\n",
    "        \n",
    "        n+=1\n",
    "        \n",
    "    return round(alpha_hat,p)"
   ]
  },
  {
   "cell_type": "code",
   "execution_count": 141,
   "metadata": {},
   "outputs": [
    {
     "data": {
      "text/plain": [
       "0.78301887"
      ]
     },
     "execution_count": 141,
     "metadata": {},
     "output_type": "execute_result"
    }
   ],
   "source": [
    "matriz = np.array([[9., 8., 3.],\n",
    "                   [7., 2., 6.],\n",
    "                   [9., 5., 7.]])\n",
    "i = 1\n",
    "j = 2\n",
    "p = 8\n",
    "d = 30\n",
    "find_alpha_hat(matriz,i,j,p,d)\n"
   ]
  },
  {
   "cell_type": "code",
   "execution_count": 139,
   "metadata": {},
   "outputs": [
    {
     "name": "stdout",
     "output_type": "stream",
     "text": [
      "0\n"
     ]
    }
   ],
   "source": [
    "matriz = np.array([[1.,-3.,-1.,-7.,-3.],\n",
    "                [7.,6.,-8.,4.,-8.],\n",
    "                [1.,0.,2.,-8.,-10.],\n",
    "                [5.,10.,-8.,-6.,2.],\n",
    "                [-2.,1.,-5.,-8.,4.]])\n",
    "\n",
    "i = 2\n",
    "j = 3\n",
    "p = 13\n",
    "d = 37992\n",
    "#print(d- np.linalg.det(matriz))\n",
    "print(find_alpha_hat(matriz,i,j,p,d))\n",
    "#print(np.linalg.det(cambiazo(matriz,i,j,0.9999999999999996)))"
   ]
  },
  {
   "cell_type": "code",
   "execution_count": 172,
   "metadata": {},
   "outputs": [
    {
     "data": {
      "text/plain": [
       "0.4662"
      ]
     },
     "execution_count": 172,
     "metadata": {},
     "output_type": "execute_result"
    }
   ],
   "source": [
    "A = np.array([[2.0,5.0,3.0],[2.0,1.0,5.0],[8.0,3.0,2.0]])\n",
    "i=0\n",
    "j=2\n",
    "p=4\n",
    "d=10\n",
    "find_alpha_hat(A,i,j,p,d)"
   ]
  },
  {
   "cell_type": "markdown",
   "metadata": {
    "colab_type": "text",
    "id": "gVOkWN_zrvR9"
   },
   "source": [
    "# Referencias\n",
    "\n",
    "Si corresponde\n",
    "\n",
    "https://docs.scipy.org/doc/numpy-1.15.0/reference/generated/numpy.binary_repr.html\n",
    "https://kite.com/python/answers/how-to-replace-characters-in-a-string-in-python\n",
    "https://math.stackexchange.com/questions/12160/roots-of-legendre-polynomial"
   ]
  }
 ],
 "metadata": {
  "colab": {
   "collapsed_sections": [],
   "name": "Tarea1-CC.ipynb",
   "provenance": [],
   "toc_visible": true
  },
  "kernelspec": {
   "display_name": "Python 3",
   "language": "python",
   "name": "python3"
  },
  "language_info": {
   "codemirror_mode": {
    "name": "ipython",
    "version": 3
   },
   "file_extension": ".py",
   "mimetype": "text/x-python",
   "name": "python",
   "nbconvert_exporter": "python",
   "pygments_lexer": "ipython3",
   "version": "3.6.9"
  }
 },
 "nbformat": 4,
 "nbformat_minor": 1
}
